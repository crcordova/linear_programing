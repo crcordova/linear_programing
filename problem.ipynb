{
 "cells": [
  {
   "cell_type": "code",
   "execution_count": 33,
   "metadata": {},
   "outputs": [],
   "source": [
    "import pandas as pd\n",
    "from Collaborator import Collaborator\n",
    "import random"
   ]
  },
  {
   "cell_type": "code",
   "execution_count": 36,
   "metadata": {},
   "outputs": [],
   "source": [
    "class Schedule_matrix():\n",
    "    def __init__(self, t1, t2, days = [\"Lunes\", \"Martes\",\"Miercoles\",\"Jueves\",\"Viernes\",\"Sabdo\",\"Domingo\"]):\n",
    "        if t1>=t2:\n",
    "            print(\"Ingresa un horario valido\")\n",
    "        else:\n",
    "            schedule_list = []\n",
    "            for day in days:\n",
    "\n",
    "                for i in range(t1,t2+1,1):\n",
    "                    schedule_list.append([day, i])\n",
    "\n",
    "        df_schedule = pd.DataFrame(schedule_list, columns=['Day',\"Hour\"]).set_index(['Day',\"Hour\"])\n",
    "        self.labor_days = days\n",
    "        self.schedule = df_schedule\n",
    "        self.collaborator_hours_list = {}\n",
    "\n",
    "    def add_colab(self, collaborator):\n",
    "        self.schedule[collaborator.name] = 0\n",
    "        self.collaborator_hours_list[collaborator.name] = collaborator.hour_per_week\n",
    "\n",
    "    def assign_turns(self, days):\n",
    "        sample_days = random.sample(self.labor_days, days)\n",
    "        for colab in self.collaborator_hours_list:\n",
    "            max_hour = self.collaborator_hours_list[colab]\n",
    "            for day in sample_days:\n",
    "                self.schedule.loc[day]\n",
    "                # Funcion para asignar horarios a cada colabaoras con restricción de sus horas maximas por semana\n"
   ]
  },
  {
   "cell_type": "markdown",
   "metadata": {},
   "source": [
    "creamos matriz con todos los horarios y colaboradores"
   ]
  },
  {
   "cell_type": "code",
   "execution_count": 60,
   "metadata": {},
   "outputs": [],
   "source": [
    "matrix = Schedule_matrix(8, 24)\n",
    "colab_1 = Collaborator(\"Cris\", 40, 2)\n",
    "colab_2 = Collaborator(\"Andre\", 45, 2)\n",
    "colab_3 = Collaborator(\"Lisa\", 40, 2)\n",
    "colab_4 = Collaborator(\"Bob\", 40, 2)"
   ]
  },
  {
   "cell_type": "markdown",
   "metadata": {},
   "source": [
    "insertamos a los colaboradores en la matriz de horarios para luego asignarlos"
   ]
  },
  {
   "cell_type": "code",
   "execution_count": 61,
   "metadata": {},
   "outputs": [],
   "source": [
    "matrix.add_colab(colab_1)\n",
    "matrix.add_colab(colab_2)\n",
    "matrix.add_colab(colab_3)\n",
    "matrix.add_colab(colab_4)"
   ]
  },
  {
   "cell_type": "markdown",
   "metadata": {},
   "source": [
    "La asignación de horarios de cada colaborador estara dada por la propiedad \"hour_per_week\" la cual se modifica cuando el colaborador realizar más horas de las comunes"
   ]
  },
  {
   "cell_type": "markdown",
   "metadata": {},
   "source": []
  }
 ],
 "metadata": {
  "kernelspec": {
   "display_name": "Python 3.10.8 64-bit",
   "language": "python",
   "name": "python3"
  },
  "language_info": {
   "codemirror_mode": {
    "name": "ipython",
    "version": 3
   },
   "file_extension": ".py",
   "mimetype": "text/x-python",
   "name": "python",
   "nbconvert_exporter": "python",
   "pygments_lexer": "ipython3",
   "version": "3.10.8"
  },
  "orig_nbformat": 4,
  "vscode": {
   "interpreter": {
    "hash": "43973268aa23c7cf4b4cafe0e819fac9b2412fcc991a21988492c3271a4e3f9b"
   }
  }
 },
 "nbformat": 4,
 "nbformat_minor": 2
}
